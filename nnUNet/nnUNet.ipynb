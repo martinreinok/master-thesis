{
 "cells": [
  {
   "cell_type": "code",
   "execution_count": 2,
   "id": "initial_id",
   "metadata": {
    "collapsed": true,
    "ExecuteTime": {
     "end_time": "2024-01-28T21:01:22.400005200Z",
     "start_time": "2024-01-28T21:01:22.353862300Z"
    }
   },
   "outputs": [],
   "source": [
    "! set nnUNet_raw=C:\\Users\\C\\Desktop\\Master Thesis\\Python Projects\\master-thesis\\nnUNet\\nnUNet_raw\n",
    "! set nnUNet_preprocessed=C:\\Users\\C\\Desktop\\Master Thesis\\Python Projects\\master-thesis\\nnUNet\\nnUNet_preprocessed\n",
    "! set nnUNet_results = C:\\Users\\C\\Desktop\\Master Thesis\\Python Projects\\master-thesis\\nnUNet\\nnUNet_results"
   ]
  },
  {
   "cell_type": "code",
   "execution_count": 2,
   "outputs": [],
   "source": [],
   "metadata": {
    "collapsed": false,
    "ExecuteTime": {
     "end_time": "2024-01-28T21:01:22.528217100Z",
     "start_time": "2024-01-28T21:01:22.511897300Z"
    }
   },
   "id": "b95a68a16b37bbc5"
  },
  {
   "cell_type": "code",
   "execution_count": 5,
   "outputs": [
    {
     "name": "stderr",
     "output_type": "stream",
     "text": [
      "The filename, directory name, or volume label syntax is incorrect.\n"
     ]
    }
   ],
   "source": [
    "$Env:nnUNet_raw = \"C:\\Users\\O\\Desktop\\Master Thesis\\Python Projects\\master-thesis\\nnUNet\\nnUNet_raw\"\n",
    "$Env:nnUNet_results = \"C:\\Users\\O\\Desktop\\Master Thesis\\Python Projects\\master-thesis\\nnUNet\\nnUNet_results\"\n",
    "$Env:nnUNet_preprocessed = \"C:\\Users\\O\\Desktop\\Master Thesis\\Python Projects\\master-thesis\\nnUNet\\nnUNet_preprocessed\""
   ],
   "metadata": {
    "collapsed": false,
    "ExecuteTime": {
     "end_time": "2024-01-28T21:02:39.315258600Z",
     "start_time": "2024-01-28T21:02:39.299646900Z"
    }
   },
   "id": "a85e8654b909b52"
  },
  {
   "cell_type": "markdown",
   "source": [
    "## Some helpful guides\n",
    "https://transformhealthcare.medium.com/glioblastoma-brain-tumor-segmentation-part-6-neural-network-model-training-5de238e9b195\n",
    "\n",
    "## Training commands:\n",
    "! nnUNetv2_plan_and_preprocess -d 1 --verify_dataset_integrity\n",
    "nnUNetv2_train 1 2d 0 --npz -device cuda; nnUNetv2_train 1 2d 1 --npz -device cuda; nnUNetv2_train 1 2d 2 --npz -device cuda; nnUNetv2_train 1 2d 3 --npz -device cuda; nnUNetv2_train 1 2d 4 --npz -device cuda\n",
    "\n",
    "\n",
    "## Hyperparameters (nnunetv2/training/nnUNetTrainer/nnUNetTrainer.py)\n",
    "\"\"\"\n",
    "self.initial_lr = 1e-2\n",
    "self.weight_decay = 3e-5\n",
    "self.oversample_foreground_percent = 0.33\n",
    "self.num_iterations_per_epoch = 100\n",
    "self.num_val_iterations_per_epoch = 50\n",
    "self.num_epochs = 100\n",
    "self.current_epoch = 0\n",
    "\"\"\""
   ],
   "metadata": {
    "collapsed": false
   },
   "id": "84916c2ab7bb8b22"
  },
  {
   "cell_type": "markdown",
   "source": [
    "## nnUNet best fold\n",
    "!nnUNetv2_find_best_configuration 1"
   ],
   "metadata": {
    "collapsed": false
   },
   "id": "37fa780e938aa0b8"
  }
 ],
 "metadata": {
  "kernelspec": {
   "display_name": "Python 3",
   "language": "python",
   "name": "python3"
  },
  "language_info": {
   "codemirror_mode": {
    "name": "ipython",
    "version": 2
   },
   "file_extension": ".py",
   "mimetype": "text/x-python",
   "name": "python",
   "nbconvert_exporter": "python",
   "pygments_lexer": "ipython2",
   "version": "2.7.6"
  }
 },
 "nbformat": 4,
 "nbformat_minor": 5
}
