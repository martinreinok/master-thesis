{
 "cells": [
  {
   "cell_type": "code",
   "execution_count": 2,
   "id": "initial_id",
   "metadata": {
    "collapsed": true,
    "ExecuteTime": {
     "end_time": "2024-01-28T21:01:22.400005200Z",
     "start_time": "2024-01-28T21:01:22.353862300Z"
    }
   },
   "outputs": [],
   "source": [
    "! set nnUNet_raw=C:\\Users\\C\\Desktop\\Master Thesis\\Python Projects\\master-thesis\\nnUNet\\nnUNet_raw\n",
    "! set nnUNet_preprocessed=C:\\Users\\C\\Desktop\\Master Thesis\\Python Projects\\master-thesis\\nnUNet\\nnUNet_preprocessed\n",
    "! set nnUNet_results = C:\\Users\\C\\Desktop\\Master Thesis\\Python Projects\\master-thesis\\nnUNet\\nnUNet_results"
   ]
  },
  {
   "cell_type": "code",
   "execution_count": 2,
   "outputs": [],
   "source": [],
   "metadata": {
    "collapsed": false,
    "ExecuteTime": {
     "end_time": "2024-01-28T21:01:22.528217100Z",
     "start_time": "2024-01-28T21:01:22.511897300Z"
    }
   },
   "id": "b95a68a16b37bbc5"
  },
  {
   "cell_type": "code",
   "execution_count": 5,
   "outputs": [
    {
     "name": "stderr",
     "output_type": "stream",
     "text": [
      "The filename, directory name, or volume label syntax is incorrect.\n"
     ]
    }
   ],
   "source": [
    "$Env:nnUNet_raw = \"C:\\Users\\C\\Desktop\\Master Thesis\\Python Projects\\master-thesis\\nnUNet\\nnUNet_raw\"\n",
    "$Env:nnUNet_results = \"C:\\Users\\C\\Desktop\\Master Thesis\\Python Projects\\master-thesis\\nnUNet\\nnUNet_results\"\n",
    "$Env:nnUNet_preprocessed = \"C:\\Users\\C\\Desktop\\Master Thesis\\Python Projects\\master-thesis\\nnUNet\\nnUNet_preprocessed\""
   ],
   "metadata": {
    "collapsed": false,
    "ExecuteTime": {
     "end_time": "2024-01-28T21:02:39.315258600Z",
     "start_time": "2024-01-28T21:02:39.299646900Z"
    }
   },
   "id": "a85e8654b909b52"
  },
  {
   "cell_type": "code",
   "execution_count": null,
   "outputs": [],
   "source": [],
   "metadata": {
    "collapsed": false
   },
   "id": "58e7471685e7ba16"
  }
 ],
 "metadata": {
  "kernelspec": {
   "display_name": "Python 3",
   "language": "python",
   "name": "python3"
  },
  "language_info": {
   "codemirror_mode": {
    "name": "ipython",
    "version": 2
   },
   "file_extension": ".py",
   "mimetype": "text/x-python",
   "name": "python",
   "nbconvert_exporter": "python",
   "pygments_lexer": "ipython2",
   "version": "2.7.6"
  }
 },
 "nbformat": 4,
 "nbformat_minor": 5
}
