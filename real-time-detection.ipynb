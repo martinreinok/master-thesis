{
 "cells": [
  {
   "cell_type": "markdown",
   "source": [
    "# Real-Time CNN Susceptibility Artifact Detection\n",
    "Using nnU-Net trained model."
   ],
   "metadata": {
    "collapsed": false
   },
   "id": "ee1b5b54efb2a8d1"
  },
  {
   "cell_type": "code",
   "execution_count": 1,
   "id": "initial_id",
   "metadata": {
    "collapsed": true,
    "ExecuteTime": {
     "end_time": "2024-01-29T01:23:04.539634200Z",
     "start_time": "2024-01-29T01:23:00.488647700Z"
    }
   },
   "outputs": [
    {
     "name": "stdout",
     "output_type": "stream",
     "text": [
      "nnUNet_raw is not defined and nnU-Net can only be used on data for which preprocessed files are already present on your system. nnU-Net cannot be used for experiment planning and preprocessing like this. If this is not intended, please read documentation/setting_up_paths.md for information on how to set this up properly.\n",
      "nnUNet_preprocessed is not defined and nnU-Net can not be used for preprocessing or training. If this is not intended, please read documentation/setting_up_paths.md for information on how to set this up.\n",
      "nnUNet_results is not defined and nnU-Net cannot be used for training or inference. If this is not intended behavior, please read documentation/setting_up_paths.md for information on how to set this up.\n"
     ]
    },
    {
     "ename": "ModuleNotFoundError",
     "evalue": "No module named 'cv2'",
     "output_type": "error",
     "traceback": [
      "\u001B[1;31m---------------------------------------------------------------------------\u001B[0m",
      "\u001B[1;31mModuleNotFoundError\u001B[0m                       Traceback (most recent call last)",
      "Cell \u001B[1;32mIn[1], line 11\u001B[0m\n\u001B[0;32m      9\u001B[0m \u001B[38;5;28;01mfrom\u001B[39;00m \u001B[38;5;21;01mnnunetv2\u001B[39;00m\u001B[38;5;21;01m.\u001B[39;00m\u001B[38;5;21;01minference\u001B[39;00m\u001B[38;5;21;01m.\u001B[39;00m\u001B[38;5;21;01mpredict_from_raw_data\u001B[39;00m \u001B[38;5;28;01mimport\u001B[39;00m nnUNetPredictor\n\u001B[0;32m     10\u001B[0m \u001B[38;5;28;01mfrom\u001B[39;00m \u001B[38;5;21;01mnnunetv2\u001B[39;00m\u001B[38;5;21;01m.\u001B[39;00m\u001B[38;5;21;01mimageio\u001B[39;00m\u001B[38;5;21;01m.\u001B[39;00m\u001B[38;5;21;01msimpleitk_reader_writer\u001B[39;00m \u001B[38;5;28;01mimport\u001B[39;00m SimpleITKIO\n\u001B[1;32m---> 11\u001B[0m \u001B[38;5;28;01mimport\u001B[39;00m \u001B[38;5;21;01mcv2\u001B[39;00m\n\u001B[0;32m     12\u001B[0m \u001B[38;5;28;01mimport\u001B[39;00m \u001B[38;5;21;01mos\u001B[39;00m\n\u001B[0;32m     13\u001B[0m \u001B[38;5;28;01mimport\u001B[39;00m \u001B[38;5;21;01mtime\u001B[39;00m\n",
      "\u001B[1;31mModuleNotFoundError\u001B[0m: No module named 'cv2'"
     ]
    }
   ],
   "source": [
    "\"\"\"\n",
    "https://github.com/MIC-DKFZ/nnUNet/blob/master/nnunetv2/inference/examples.py\n",
    "\"\"\"\n",
    "\n",
    "if __name__ == '__main__':\n",
    "    from nnunetv2.paths import nnUNet_results, nnUNet_raw\n",
    "    import torch\n",
    "    from batchgenerators.utilities.file_and_folder_operations import join\n",
    "    from nnunetv2.inference.predict_from_raw_data import nnUNetPredictor\n",
    "    from nnunetv2.imageio.simpleitk_reader_writer import SimpleITKIO\n",
    "    import cv2\n",
    "    import os\n",
    "    import time\n",
    "    import numpy as np\n",
    "\n",
    "    # nnUNetv2_predict -d 3 -f 0 -c 3d_lowres -i imagesTs -o imagesTs_predlowres --continue_prediction\n",
    "    \n",
    "    # nnUNetv2_predict.exe -i .\\imagesTr\\ -o .\\RESULTS\\ -d 1 -c 2d -f 4\n",
    "\n",
    "    # instantiate the nnUNetPredictor\n",
    "    predictor = nnUNetPredictor(\n",
    "        tile_step_size=1,\n",
    "        use_gaussian=True,\n",
    "        use_mirroring=True,\n",
    "        perform_everything_on_gpu=True,\n",
    "        device=torch.device('cuda', 0),\n",
    "        verbose=True,\n",
    "        verbose_preprocessing=True,\n",
    "        allow_tqdm=True\n",
    "    )\n",
    "    # initializes the network architecture, loads the checkpoint\n",
    "    predictor.initialize_from_trained_model_folder(\"MODEL\", checkpoint_name='checkpoint_final.pth', use_folds=(4,))\n",
    "    \n",
    "    \"\"\"\n",
    "    a np.ndarray of shape (c, x, y, z) where c is the number of image channels (can be 1) and x, y, z are the spatial dimensions (set x=1 for 2D! Example: (3, 1, 224, 224) for RGB image). 2) a dictionary with metadata. This can be anything. BUT it HAS to include a {'spacing': (a, b, c)} where a is the spacing of x, b of y and c of z! If an image doesn't have spacing, just set this to 1. For 2D, set a=999 (largest spacing value! Make it larger than b and c\n",
    "    \n",
    "    In the case of 2D images, the returned array should have shape (c, 1, x, y) and the spacing should be (999, sp_x, sp_y). Make sure 999 is larger than sp_x and sp_y! Example: shape=(3, 1, 224, 224), spacing=(999, 1, 1)\n",
    "    For images that don't have a spacing, set the spacing to 1 (2d exception with 999 for the first axis still applies!)#\n",
    "    predict a single numpy array\n",
    "    \"\"\"\n",
    "    cv2.namedWindow(\"Prediction\", cv2.WINDOW_AUTOSIZE)\n",
    "    cv2.namedWindow(\"Image\", cv2.WINDOW_AUTOSIZE)\n",
    "    while True:\n",
    "        for test_image in os.listdir(\"MODEL/test-images\"):\n",
    "            image = cv2.imread(os.path.join(\"MODEL/test-images\", test_image), cv2.IMREAD_GRAYSCALE)\n",
    "            image = cv2.resize(image, (512, 512)).astype(np.float32) / 255.0\n",
    "            cnn_input = image.reshape(1, 1, image.shape[0], image.shape[1])\n",
    "            props = {'spacing': (999, 1, 1)}\n",
    "            output = predictor.predict_single_npy_array(cnn_input, props, None, None, True)[0]\n",
    "            \n",
    "            output_display = (output * 255).astype(np.uint8)\n",
    "            image_display = (image * 255).astype(np.uint8)\n",
    "            cv2.imshow(\"Prediction\", output_display)\n",
    "            cv2.imshow(\"Image\", image_display)\n",
    "            \n",
    "            if cv2.waitKey(1) & 0xFF == ord('q'):\n",
    "                break\n",
    "        cv2.destroyAllWindows()\n",
    "    "
   ]
  }
 ],
 "metadata": {
  "kernelspec": {
   "display_name": "Python 3",
   "language": "python",
   "name": "python3"
  },
  "language_info": {
   "codemirror_mode": {
    "name": "ipython",
    "version": 2
   },
   "file_extension": ".py",
   "mimetype": "text/x-python",
   "name": "python",
   "nbconvert_exporter": "python",
   "pygments_lexer": "ipython2",
   "version": "2.7.6"
  }
 },
 "nbformat": 4,
 "nbformat_minor": 5
}
