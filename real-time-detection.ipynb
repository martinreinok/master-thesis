{
 "cells": [
  {
   "cell_type": "markdown",
   "source": [
    "# Real-Time CNN Susceptibility Artifact Detection\n",
    "Using nnU-Net trained model."
   ],
   "metadata": {
    "collapsed": false
   },
   "id": "ee1b5b54efb2a8d1"
  },
  {
   "cell_type": "code",
   "execution_count": 7,
   "id": "initial_id",
   "metadata": {
    "collapsed": true,
    "ExecuteTime": {
     "end_time": "2024-01-29T01:53:16.652019200Z",
     "start_time": "2024-01-29T01:53:14.727090900Z"
    }
   },
   "outputs": [
    {
     "name": "stdout",
     "output_type": "stream",
     "text": [
      "Prediction done, transferring to CPU if needed\n",
      "Prediction: 0.3135497570037842 seconds\n",
      "Prediction done, transferring to CPU if needed\n",
      "Prediction: 0.4044637680053711 seconds\n"
     ]
    },
    {
     "name": "stderr",
     "output_type": "stream",
     "text": [
      "C:\\Users\\C\\AppData\\Local\\Temp\\ipykernel_3540\\257272187.py:54: UserWarning: Matplotlib is currently using agg, which is a non-GUI backend, so cannot show the figure.\n",
      "  plt.show()\n"
     ]
    }
   ],
   "source": [
    "\"\"\"\n",
    "https://github.com/MIC-DKFZ/nnUNet/blob/master/nnunetv2/inference/examples.py\n",
    "\"\"\"\n",
    "\n",
    "if __name__ == '__main__':\n",
    "    import torch\n",
    "    from batchgenerators.utilities.file_and_folder_operations import join\n",
    "    from nnunetv2.inference.predict_from_raw_data import nnUNetPredictor\n",
    "    import cv2\n",
    "    import os\n",
    "    import numpy as np\n",
    "    import matplotlib.pyplot as plt\n",
    "    import time\n",
    "\n",
    "    # instantiate the nnUNetPredictor\n",
    "    predictor = nnUNetPredictor(\n",
    "        tile_step_size=1,\n",
    "        use_gaussian=True,\n",
    "        use_mirroring=True,\n",
    "        perform_everything_on_gpu=True,\n",
    "        device=torch.device('cuda', 0),\n",
    "        verbose=False,\n",
    "        verbose_preprocessing=False,\n",
    "        allow_tqdm=False\n",
    "    )\n",
    "    \n",
    "    predictor.initialize_from_trained_model_folder(\"MODEL\", checkpoint_name='checkpoint_final.pth', use_folds=(4,))\n",
    "    # while True:\n",
    "    for test_image in os.listdir(\"MODEL/test-images\"):\n",
    "        image = cv2.imread(os.path.join(\"MODEL/test-images\", test_image), cv2.IMREAD_GRAYSCALE)\n",
    "        image = cv2.resize(image, (512, 512)).astype(np.float32) / 255.0\n",
    "        cnn_input = image.reshape(1, 1, image.shape[0], image.shape[1])\n",
    "        props = {'spacing': (999, 1, 1)}\n",
    "        \n",
    "        start_time = time.time()\n",
    "        output = predictor.predict_single_npy_array(cnn_input, props, None, None, True)[0]\n",
    "        print(\"Prediction: %s seconds\" % (time.time() - start_time))\n",
    "        \n",
    "        output_display = (output * 255).astype(np.uint8).reshape(512, 512)\n",
    "        image_display = (image * 255).astype(np.uint8)\n",
    "        \n",
    "        # Using Matplotlib to display the images\n",
    "        plt.figure(figsize=(12, 6))\n",
    "        plt.subplot(1, 2, 1)\n",
    "        plt.imshow(image_display, cmap='gray')\n",
    "        plt.title(\"Original Image\")\n",
    "        plt.axis('off')\n",
    "\n",
    "        plt.subplot(1, 2, 2)\n",
    "        plt.imshow(output_display, cmap='gray')\n",
    "        plt.title(\"Prediction\")\n",
    "        plt.axis('off')\n",
    "        \n",
    "    plt.show()\n",
    "    "
   ]
  }
 ],
 "metadata": {
  "kernelspec": {
   "display_name": "Python 3",
   "language": "python",
   "name": "python3"
  },
  "language_info": {
   "codemirror_mode": {
    "name": "ipython",
    "version": 2
   },
   "file_extension": ".py",
   "mimetype": "text/x-python",
   "name": "python",
   "nbconvert_exporter": "python",
   "pygments_lexer": "ipython2",
   "version": "2.7.6"
  }
 },
 "nbformat": 4,
 "nbformat_minor": 5
}
