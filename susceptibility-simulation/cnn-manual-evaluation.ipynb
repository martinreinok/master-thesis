{
 "cells": [
  {
   "cell_type": "markdown",
   "source": [
    "# Evaluation script"
   ],
   "metadata": {
    "collapsed": false
   },
   "id": "b64e4d29a56c65e"
  },
  {
   "cell_type": "code",
   "outputs": [],
   "source": [
    "import torch\n",
    "from nnunetv2.inference.predict_from_raw_data import nnUNetPredictor\n",
    "import cv2\n",
    "import time\n",
    "import os\n",
    "import numpy as np\n",
    "import matplotlib.pyplot as plt\n",
    "from collections import deque\n",
    "%matplotlib inline"
   ],
   "metadata": {
    "collapsed": false
   },
   "id": "cc23f89e6b5dd439",
   "execution_count": null
  },
  {
   "cell_type": "code",
   "outputs": [],
   "source": [
    "def init_cnn():\n",
    "    predictor = nnUNetPredictor(\n",
    "        tile_step_size=1,\n",
    "        use_gaussian=True,\n",
    "        use_mirroring=True,\n",
    "        perform_everything_on_device=True,\n",
    "        device=torch.device('cuda', 0),\n",
    "        verbose=False,\n",
    "        verbose_preprocessing=False,\n",
    "        allow_tqdm=False\n",
    "    )\n",
    "    print(torch.cuda.get_device_name(0))\n",
    "    predictor.initialize_from_trained_model_folder(\"../MODELS/MODEL_512_V3\", checkpoint_name='checkpoint_final.pth', use_folds=(4,))\n",
    "    return predictor"
   ],
   "metadata": {
    "collapsed": false
   },
   "id": "af8544ce76209774",
   "execution_count": null
  },
  {
   "cell_type": "code",
   "outputs": [],
   "source": [
    "def cnn_result(image, predictor):\n",
    "    IMAGE_SIZE = (512, 512)\n",
    "    image = cv2.resize(image, IMAGE_SIZE).astype(np.float32) / 255.0\n",
    "    cnn_input = image.reshape(1, 1, image.shape[0], image.shape[1])\n",
    "    props = {'spacing': (999, 1, 1)}\n",
    "    start_time = time.time()\n",
    "    output = predictor.predict_single_npy_array(cnn_input, props, None, None, True)[0]\n",
    "    print(\"Prediction: %s seconds\" % (time.time() - start_time))\n",
    "    return (output * 255).astype(np.uint8).reshape(IMAGE_SIZE)"
   ],
   "metadata": {
    "collapsed": false
   },
   "id": "3ecceadd542d77c0",
   "execution_count": null
  },
  {
   "cell_type": "code",
   "outputs": [],
   "source": [
    "def display_results(image_display, cnn_display, manual_points, correct_detections, missed_detections, false_detections, contours, image_name):\n",
    "    # Display the image and the prediction side by side\n",
    "    fig, axes = plt.subplots(1, 3, figsize=(18, 6))\n",
    "\n",
    "    # Draw contours on the original image\n",
    "    image_with_contours = cv2.drawContours(cv2.cvtColor((image_display.copy()), cv2.COLOR_GRAY2RGB), contours, -1, (255, 0, 0), -1)\n",
    "\n",
    "    # Draw manual points on the original image\n",
    "    for point in correct_detections:\n",
    "        cv2.circle(image_with_contours, point, 4, (0, 255, 0), -1)\n",
    "        \n",
    "    for point in missed_detections:\n",
    "        cv2.circle(image_with_contours, point, 4, (255, 255, 0), -1)\n",
    "    \n",
    "    axes[0].imshow(image_display, cmap='gray')\n",
    "    axes[0].set_title(\"Original MRI image\")\n",
    "    axes[0].axis('off')\n",
    "    \n",
    "    axes[1].imshow(cnn_display, cmap='gray')\n",
    "    axes[1].set_title(\"Prediction\")\n",
    "    axes[1].axis('off')\n",
    "    \n",
    "    axes[2].imshow(image_with_contours, cmap='gray')\n",
    "    axes[2].set_title(\"Manually annotated detection with CNN Contours\")\n",
    "    axes[2].axis('off')\n",
    "    \n",
    "    # Display manual points and detection results\n",
    "    print(\"Image:\", image_name)\n",
    "    print(\"Manual Points:\", len(manual_points))\n",
    "    print(\"Correct Detections:\", len(correct_detections))\n",
    "    print(\"Missed Detections:\", len(missed_detections))\n",
    "    print(\"False Detections:\", len(false_detections))\n",
    "    \n",
    "    # Open a file in write mode\n",
    "    with open(\"detection_data.csv\", \"a+\") as file:     \n",
    "        file.write(f\"{image_name},{len(manual_points)},{len(correct_detections)},{len(missed_detections)},{len(false_detections)}\\n\")\n",
    "\n",
    "    plt.show()"
   ],
   "metadata": {
    "collapsed": false
   },
   "id": "512fa66dbcaff846",
   "execution_count": null
  },
  {
   "cell_type": "code",
   "outputs": [],
   "source": [
    "def get_manual_points(image, display_scale=1.5):\n",
    "    # Create a copy of the original image\n",
    "    image_copy = image.copy()\n",
    "    height, width = image_copy.shape[:2]\n",
    "    resized_image = cv2.resize(image_copy, (int(width * display_scale), int(height * display_scale)))\n",
    "    manual_points = deque()\n",
    "    def mouse_callback(event, x, y, flags, param):\n",
    "        # Adjust the mouse coordinates to the original image resolution\n",
    "        if event == cv2.EVENT_LBUTTONDOWN:\n",
    "            manual_points.append((int(x // display_scale), int(y // display_scale)))\n",
    "    cv2.namedWindow(\"Image\")\n",
    "    cv2.setMouseCallback(\"Image\", mouse_callback)\n",
    "    while True:\n",
    "        cv2.imshow(\"Image\", resized_image)\n",
    "        key = cv2.waitKey(1) & 0xFF\n",
    "        if key == ord('\\r'):\n",
    "            break\n",
    "    cv2.destroyAllWindows()\n",
    "    return manual_points"
   ],
   "metadata": {
    "collapsed": false
   },
   "id": "fa1cb6cc50592c81",
   "execution_count": null
  },
  {
   "cell_type": "code",
   "outputs": [],
   "source": [
    "def process_cnn_output(cnn_output, manual_points):\n",
    "    correct_detections = []\n",
    "    missed_detections = list(manual_points)\n",
    "    false_detections = set()\n",
    "\n",
    "    # Find blobs in the CNN output\n",
    "    contours, _ = cv2.findContours(cnn_output, cv2.RETR_EXTERNAL, cv2.CHAIN_APPROX_SIMPLE)\n",
    "\n",
    "    # Check if manual points are inside blobs\n",
    "    for point in manual_points:\n",
    "        for contour in contours:\n",
    "            if cv2.pointPolygonTest(contour, point, False) >= 0:\n",
    "                correct_detections.append(point)\n",
    "                missed_detections.remove(point)\n",
    "\n",
    "    # Check for false detections (blobs without manual points)\n",
    "    for iterator, contour in enumerate(contours):\n",
    "        overlap = False\n",
    "        for point in manual_points:\n",
    "            if cv2.pointPolygonTest(contour, point, False) >= 0:\n",
    "                overlap = True\n",
    "        if not overlap:\n",
    "            false_detections.add(iterator)\n",
    "\n",
    "    return correct_detections, missed_detections, false_detections, contours"
   ],
   "metadata": {
    "collapsed": false
   },
   "id": "839b38e949c10ffe",
   "execution_count": null
  },
  {
   "cell_type": "code",
   "outputs": [],
   "source": [
    "if __name__ == '__main__':\n",
    "    predictor = init_cnn()\n",
    "\n",
    "    dir = \"C:/Users/O/Desktop/Master Thesis/MRI Data/IMAGES_FOR_CNN_TEST\"\n",
    "    images = os.listdir(dir)\n",
    "    for image_name in images:\n",
    "        image = cv2.imread(os.path.join(dir, image_name), cv2.IMREAD_GRAYSCALE)\n",
    "        \n",
    "        IMAGE_SIZE = (512, 512)\n",
    "        image = cv2.resize(image, IMAGE_SIZE)\n",
    "        manual_points = get_manual_points(image)\n",
    "        prediction = cnn_result(image, predictor)\n",
    "        correct_detections, missed_detections, false_detections, contours = process_cnn_output(prediction, manual_points)\n",
    "        display_results(image, prediction, manual_points, correct_detections, missed_detections, false_detections, contours, image_name)"
   ],
   "metadata": {
    "collapsed": false
   },
   "id": "2f824f00565160e2",
   "execution_count": null
  }
 ],
 "metadata": {
  "kernelspec": {
   "display_name": "Python 3",
   "language": "python",
   "name": "python3"
  },
  "language_info": {
   "codemirror_mode": {
    "name": "ipython",
    "version": 2
   },
   "file_extension": ".py",
   "mimetype": "text/x-python",
   "name": "python",
   "nbconvert_exporter": "python",
   "pygments_lexer": "ipython2",
   "version": "2.7.6"
  }
 },
 "nbformat": 4,
 "nbformat_minor": 5
}
